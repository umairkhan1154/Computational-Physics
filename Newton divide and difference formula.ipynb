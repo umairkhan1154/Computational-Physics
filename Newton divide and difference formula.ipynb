{
 "cells": [
  {
   "cell_type": "markdown",
   "metadata": {},
   "source": [
    "# NEWTON'S DIVIDE AND DIFFERENCE INTERPOLATION"
   ]
  },
  {
   "cell_type": "markdown",
   "metadata": {},
   "source": [
    "CLASS WALA QUESTION KA PROGRAM"
   ]
  },
  {
   "cell_type": "code",
   "execution_count": 2,
   "metadata": {},
   "outputs": [
    {
     "name": "stdout",
     "output_type": "stream",
     "text": [
      "[[15, 39, 243, 375, 771], [24.0, 68.0, 132.0, 198.0], [11.0, 16.0, 22.0], [1.0, 1.0], [0.0]]\n",
      ":::::::::::::::::formula part::::::::::::::\n",
      " f(5) = 147.0 \n"
     ]
    }
   ],
   "source": [
    "x = [2,3,6,7,9]\n",
    "f_x = [15,39,243,375,771]\n",
    "n = len(x)\n",
    "b = []\n",
    "b.append(f_x)\n",
    "for i in range(0,n-1):\n",
    "    a = []\n",
    "    for j in range(1,n):\n",
    "        a.append((f_x[j] - f_x[j-1])/(x[j+i]-x[j-1]))\n",
    "    b.append(a)\n",
    "    n -=1\n",
    "    f_x = a    \n",
    "print(b\n",
    "    )\n",
    "print(\":::::::::::::::::formula part::::::::::::::\")\n",
    "m = len(x)\n",
    "value = 5\n",
    "Temp = []\n",
    "temp = 1\n",
    "for i in range(0,m-1):\n",
    "    temp = temp * (value - x[i])\n",
    "    Temp.append(temp)\n",
    "sum = 0\n",
    "for i in range(0,m-1):\n",
    "    sum = sum +  ((Temp[i]*b[i+1][0]))\n",
    "sum = sum + b[0][0]\n",
    "print(f\" f({value}) = {sum} \")"
   ]
  },
  {
   "cell_type": "markdown",
   "metadata": {},
   "source": [
    "GENERAL PROGRAM"
   ]
  },
  {
   "cell_type": "code",
   "execution_count": null,
   "metadata": {},
   "outputs": [],
   "source": [
    "x = []\n",
    "f_x = []\n",
    "n = int(input(\"enter total number of elements: \"))\n",
    "for i in range(0,n):\n",
    "    x.append(int(input(\" enter elements of x: \")))\n",
    "    f_x.append(int(input(\" enter elements of f_x: \")))\n",
    "b = []\n",
    "b.append(f_x)\n",
    "for i in range(0,n-1):\n",
    "    a = []\n",
    "    for j in range(1,n):\n",
    "        a.append((f_x[j] - f_x[j-1])/(x[j+i]-x[j-1]))\n",
    "    b.append(a)\n",
    "    n -=1\n",
    "    f_x = a    \n",
    "print(b\n",
    "    )\n",
    "print(\"::::::::::: formula part :::::::::::\")\n",
    "m = len(x)\n",
    "Temp = []\n",
    "value = int(input(\"f(x) : enter value of x: \"))\n",
    "Temp = []\n",
    "temp = 1\n",
    "for i in range(0,m-1):\n",
    "    temp = temp * (value - x[i])\n",
    "    Temp.append(temp)\n",
    "sum = 0\n",
    "for i in range(0,m-1):\n",
    "    sum = sum +  ((Temp[i]*b[i+1][0]))\n",
    "sum = sum + b[0][0]\n",
    "print(f\"f({value}) = {sum}\" )"
   ]
  },
  {
   "cell_type": "code",
   "execution_count": null,
   "metadata": {},
   "outputs": [],
   "source": []
  }
 ],
 "metadata": {
  "kernelspec": {
   "display_name": "Python 3",
   "language": "python",
   "name": "python3"
  },
  "language_info": {
   "codemirror_mode": {
    "name": "ipython",
    "version": 3
   },
   "file_extension": ".py",
   "mimetype": "text/x-python",
   "name": "python",
   "nbconvert_exporter": "python",
   "pygments_lexer": "ipython3",
   "version": "3.7.3"
  }
 },
 "nbformat": 4,
 "nbformat_minor": 2
}
