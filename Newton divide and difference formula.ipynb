{
 "cells": [
  {
   "cell_type": "markdown",
   "metadata": {},
   "source": [
    "# NEWTON'S DIVIDE AND DIFFERENCE INTERPOLATION"
   ]
  },
  {
   "cell_type": "markdown",
   "metadata": {},
   "source": [
    "CLASS WALA QUESTION KA PROGRAM"
   ]
  },
  {
   "cell_type": "code",
   "execution_count": 1,
   "metadata": {},
   "outputs": [
    {
     "name": "stdout",
     "output_type": "stream",
     "text": [
      "[[1, 27, 125, 343, 729], [13.0, 49.0, 109.0, 193.0], [9.0, 15.0, 21.0], [1.0, 1.0], [0.0]]\n",
      ":::::::::::::::::formula part::::::::::::::\n",
      " f(2) = 8.0\n",
      "[1, -1, 3, -15]\n"
     ]
    }
   ],
   "source": [
    "x = [1,3,5,7,9]\n",
    "n = len(x)\n",
    "f_x=[1,27,125,343,729]\n",
    "#in 0 1 2    3  4\n",
    "b = []\n",
    "b.append(f_x)\n",
    "for i in range(0,n-1):\n",
    "    a = []\n",
    "    for j in range(1,n):\n",
    "        a.append((f_x[j] - f_x[j-1])/(x[j+i]-x[j-1]))\n",
    "    b.append(a)\n",
    "    n -=1\n",
    "    f_x = a    \n",
    "print(b\n",
    "    )\n",
    "print(\":::::::::::::::::formula part::::::::::::::\")\n",
    "m = len(x)\n",
    "Temp = []\n",
    "value = 2\n",
    "def fa(a,x):\n",
    "    temp = 1\n",
    "    for i in range(0,m-1):\n",
    "        temp = temp * (a - x[i]) \n",
    "        Temp.append(temp)\n",
    "    return Temp\n",
    "l = fa(value,x)\n",
    "umair = 0\n",
    "for i in range(0,m-1):\n",
    "    umair = umair+  ((l[i]*b[i+1][0]))\n",
    "umair = umair + b[0][0]\n",
    "print(f' f({value}) = {umair}')\n",
    "print(l)\n"
   ]
  },
  {
   "cell_type": "markdown",
   "metadata": {},
   "source": [
    "GENERAL PROGRAM"
   ]
  },
  {
   "cell_type": "code",
   "execution_count": null,
   "metadata": {},
   "outputs": [],
   "source": [
    "x = []\n",
    "f_x = []\n",
    "n = int(input(\"enter total number of elements: \"))\n",
    "for i in range(0,n):\n",
    "    x.append(int(input(\" enter elements of x: \")))\n",
    "    f_x.append(int(input(\" enter elements of f_x: \")))\n",
    "b = []\n",
    "b.append(f_x)\n",
    "for i in range(0,n-1):\n",
    "    a = []\n",
    "    for j in range(1,n):\n",
    "        a.append((f_x[j] - f_x[j-1])/(x[j+i]-x[j-1]))\n",
    "    b.append(a)\n",
    "    n -=1\n",
    "    f_x = a    \n",
    "print(b\n",
    "    )\n",
    "\n",
    "\n",
    "\n",
    "\n",
    "print(\"::::::::::: formula part :::::::::::\")\n",
    "m = len(x)\n",
    "Temp = []\n",
    "value = int(input(\"f(x) : enter value of x: \"))\n",
    "def fa(c,x):\n",
    "    temp = 1\n",
    "    for i in range(0,m-1):\n",
    "        temp = temp * (c - x[i]) \n",
    "        Temp.append(temp)\n",
    "    return Temp\n",
    "l = fa(value,x)\n",
    "umair = 0\n",
    "for i in range(0,m-1):\n",
    "    umair = umair +  ((l[i]*b[i+1][0]))\n",
    "umair = umair + b[0][0]\n",
    "print(\"f\",(value), \"=\" ,umair, )"
   ]
  }
 ],
 "metadata": {
  "kernelspec": {
   "display_name": "Python 3",
   "language": "python",
   "name": "python3"
  },
  "language_info": {
   "codemirror_mode": {
    "name": "ipython",
    "version": 3
   },
   "file_extension": ".py",
   "mimetype": "text/x-python",
   "name": "python",
   "nbconvert_exporter": "python",
   "pygments_lexer": "ipython3",
   "version": "3.7.3"
  }
 },
 "nbformat": 4,
 "nbformat_minor": 2
}
