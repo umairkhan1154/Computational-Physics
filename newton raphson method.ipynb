{
 "cells": [
  {
   "cell_type": "code",
   "execution_count": 2,
   "metadata": {},
   "outputs": [
    {
     "name": "stdout",
     "output_type": "stream",
     "text": [
      "enter first approximation0.5\n",
      "the value of root is : 0.619061\n"
     ]
    }
   ],
   "source": [
    "from sympy import diff\n",
    "from sympy import exp\n",
    "from sympy import Symbol\n",
    "r = Symbol('r')\n",
    "def f(x):\n",
    "    return exp(x) - 3*x\n",
    "def fd(x):\n",
    "    a = diff(exp(r) - 3*r)\n",
    "    return a.subs(r,x)\n",
    "def newtonraphson(x):\n",
    "    h = f(x)/fd(x)\n",
    "    if fd(x) != 0:  \n",
    "        while (abs(h) >= 0.0000001):\n",
    "            h = f(x)/fd(x)\n",
    "            xnew = x - h\n",
    "            x = xnew\n",
    "        print(\"the value of root is :\",\"%.6f\"%x)\n",
    "    else:\n",
    "        print(\"the derivate of function is zero so it isn't possible to continue\")\n",
    "x0 = float(input(\"enter first approximation\"))\n",
    "newtonraphson(x0)"
   ]
  },
  {
   "cell_type": "code",
   "execution_count": null,
   "metadata": {},
   "outputs": [],
   "source": []
  }
 ],
 "metadata": {
  "kernelspec": {
   "display_name": "Python 3",
   "language": "python",
   "name": "python3"
  },
  "language_info": {
   "codemirror_mode": {
    "name": "ipython",
    "version": 3
   },
   "file_extension": ".py",
   "mimetype": "text/x-python",
   "name": "python",
   "nbconvert_exporter": "python",
   "pygments_lexer": "ipython3",
   "version": "3.7.3"
  }
 },
 "nbformat": 4,
 "nbformat_minor": 2
}
