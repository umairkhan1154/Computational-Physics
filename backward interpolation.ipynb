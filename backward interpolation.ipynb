{
 "cells": [
  {
   "cell_type": "code",
   "execution_count": 19,
   "metadata": {},
   "outputs": [
    {
     "name": "stdout",
     "output_type": "stream",
     "text": [
      "enter number of elements: 6\n",
      "[[354, 332, 291, 260, 231, 204], [-22, -41, -31, -29, -27], [-19, 10, 2, 2], [29, -8, 0], [-37, 8], [45]]\n",
      "+=+=+=+=+=+formula-part=+=+=+=+=+\n",
      "y(x) : enter x: 42\n",
      "the value of f(42.0) is 218.66303999999997\n"
     ]
    }
   ],
   "source": [
    "x,y = [20,25,30,35,40,45],[354,332,291,260,231,204]\n",
    "n = int(input(\"enter number of elements: \"))\n",
    "b =[]\n",
    "b.append(y)\n",
    "for i in range(0,n-1):\n",
    "    a = []\n",
    "    for j in range(1,n):\n",
    "        a.append(y[j]-y[j-1])\n",
    "    b.append(a)\n",
    "    n-=1\n",
    "    y=a\n",
    "print(b)\n",
    "print(\"+=+=+=+=+=+formula-part=+=+=+=+=+\")\n",
    "m = len(x)\n",
    "value = float(input(\"y(x) : enter x: \"))\n",
    "p = (value - x[-1])/(x[1]-x[0])\n",
    "temp = 1\n",
    "Temp = []\n",
    "import math\n",
    "for k in range(0,m-1):\n",
    "    temp = temp * (p+k)\n",
    "    Temp.append(temp)\n",
    "umair = b[0][-1]\n",
    "for l in range(0,m-1):\n",
    "    umair = umair + ((Temp[l]*b[l+1][-1])/(math.factorial(l+1)))\n",
    "print(f\"the value of f({value}) is {umair}\")"
   ]
  },
  {
   "cell_type": "code",
   "execution_count": 9,
   "metadata": {},
   "outputs": [
    {
     "data": {
      "text/plain": [
       "[3.4,\n",
       " 11.559999999999999,\n",
       " 39.303999999999995,\n",
       " 133.63359999999997,\n",
       " 454.3542399999999]"
      ]
     },
     "execution_count": 9,
     "metadata": {},
     "output_type": "execute_result"
    }
   ],
   "source": [
    "Temp"
   ]
  },
  {
   "cell_type": "code",
   "execution_count": null,
   "metadata": {},
   "outputs": [],
   "source": []
  }
 ],
 "metadata": {
  "kernelspec": {
   "display_name": "Python 3",
   "language": "python",
   "name": "python3"
  },
  "language_info": {
   "codemirror_mode": {
    "name": "ipython",
    "version": 3
   },
   "file_extension": ".py",
   "mimetype": "text/x-python",
   "name": "python",
   "nbconvert_exporter": "python",
   "pygments_lexer": "ipython3",
   "version": "3.7.3"
  }
 },
 "nbformat": 4,
 "nbformat_minor": 2
}
