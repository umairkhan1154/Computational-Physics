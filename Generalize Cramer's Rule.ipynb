{
 "cells": [
  {
   "cell_type": "code",
   "execution_count": 1,
   "metadata": {},
   "outputs": [
    {
     "name": "stdout",
     "output_type": "stream",
     "text": [
      "enter number of unknowns: 2\n",
      " 1\n",
      " 2\n",
      " 3\n",
      " 4\n",
      " 5\n",
      " 6\n"
     ]
    },
    {
     "data": {
      "text/plain": [
       "array([[1, 2, 3],\n",
       "       [4, 5, 6]])"
      ]
     },
     "execution_count": 1,
     "metadata": {},
     "output_type": "execute_result"
    }
   ],
   "source": [
    "import numpy as np\n",
    "row = []\n",
    "n = int(input(\"enter number of unknowns: \"))\n",
    "[row.append(int(input(\" \"))) for i in range(0,n) for j in range(0,n+1)]\n",
    "matrix= np.array(row).reshape(n,n+1)\n",
    "matrix"
   ]
  },
  {
   "cell_type": "code",
   "execution_count": 3,
   "metadata": {},
   "outputs": [
    {
     "name": "stdout",
     "output_type": "stream",
     "text": [
      "x 0 = -1.000000\n",
      "x 1 = 2.000000\n"
     ]
    }
   ],
   "source": [
    "det_D = np.linalg.det(matrix[:,:-1])\n",
    "if det_D !=0:\n",
    "    for i in range(0,n):\n",
    "        matrix= np.array(row).reshape(n,n+1)\n",
    "        matrix[:,i:i+1] = matrix[:,-1:]\n",
    "        xi = (np.linalg.det(matrix[:,:-1]))/det_D\n",
    "        print(\"x\",i,\"=\",\"%.6f\"%xi)\n",
    "else :\n",
    "    print('solution is not possible')"
   ]
  },
  {
   "cell_type": "code",
   "execution_count": null,
   "metadata": {},
   "outputs": [],
   "source": []
  }
 ],
 "metadata": {
  "kernelspec": {
   "display_name": "Python 3",
   "language": "python",
   "name": "python3"
  },
  "language_info": {
   "codemirror_mode": {
    "name": "ipython",
    "version": 3
   },
   "file_extension": ".py",
   "mimetype": "text/x-python",
   "name": "python",
   "nbconvert_exporter": "python",
   "pygments_lexer": "ipython3",
   "version": "3.7.3"
  }
 },
 "nbformat": 4,
 "nbformat_minor": 2
}
