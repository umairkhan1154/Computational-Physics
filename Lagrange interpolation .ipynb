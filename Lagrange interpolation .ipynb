{
 "cells": [
  {
   "cell_type": "code",
   "execution_count": null,
   "metadata": {},
   "outputs": [],
   "source": [
    "x,y= [1,3,5,7],[1,27,125,343]\n",
    "n = len(x)\n",
    "value = float(input(\"value of x \"))\n",
    "a,b = [],[]\n",
    "for i in range(0,n):\n",
    "    b.append(value - x[i])\n",
    "a.append(b)\n",
    "for i in range(0,n):\n",
    "    xi = []\n",
    "    for j in range(0,n):\n",
    "        xi.append(x[i]-x[j])\n",
    "    a.append(xi)    \n",
    "print(a)\n",
    "print(\"=========formula-part=========\")\n",
    "Num = []   #Num = Numerator part of the formula\n",
    "for i in range(0,n):\n",
    "    temp = 1\n",
    "    for j in range(0,n):\n",
    "        if i != j:\n",
    "            temp = temp * (a[0][j])\n",
    "    Num.append(temp*y[i])\n",
    "Den = []   #Den = Denomenator part of the foruma\n",
    "for i in range(0,n):\n",
    "    temp = 1\n",
    "    for j in range(0,n):\n",
    "        if i !=j :\n",
    "            temp = temp * (a[i+1][j])\n",
    "    Den.append(temp)\n",
    "sum = 0\n",
    "for i in range(0,n):\n",
    "    sum = sum + (Num[i]/Den[i])\n",
    "print(f'f({value}) = {sum}')"
   ]
  },
  {
   "cell_type": "code",
   "execution_count": null,
   "metadata": {},
   "outputs": [],
   "source": []
  },
  {
   "cell_type": "code",
   "execution_count": 9,
   "metadata": {},
   "outputs": [
    {
     "name": "stdout",
     "output_type": "stream",
     "text": [
      "value of x 2\n",
      "[[1.0, -1.0, -3.0, -5.0, -7.0], [0, -2, -4, -6, -8], [2, 0, -2, -4, -6], [4, 2, 0, -2, -4], [6, 4, 2, 0, -2], [8, 6, 4, 2, 0]]\n",
      "=========formula-part=========\n",
      "f(2.0) = 8.0\n"
     ]
    }
   ],
   "source": [
    "x,y= [1,3,5,7,9],[1,27,125,343,729]\n",
    "n = len(x)\n",
    "value = float(input(\"value of x \"))\n",
    "a,b = [],[]\n",
    "for i in range(0,n):\n",
    "    b.append(value - x[i])\n",
    "a.append(b)\n",
    "for i in range(0,n):\n",
    "    xi = []\n",
    "    for j in range(0,n):\n",
    "        xi.append(x[i]-x[j])\n",
    "    a.append(xi)    \n",
    "print(a)\n",
    "print(\"=========formula-part=========\")\n",
    "f_x = []  \n",
    "for i in range(0,n):\n",
    "    temp = 1\n",
    "    for j in range(0,n):\n",
    "        if i != j:\n",
    "            temp = temp * (a[0][j]/a[i+1][j])\n",
    "    f_x.append(temp*y[i])\n",
    "f_x\n",
    "sum = 0\n",
    "for i in range(0,n):\n",
    "    sum = sum + f_x[i]\n",
    "print(f'f({value}) = {sum}')"
   ]
  },
  {
   "cell_type": "code",
   "execution_count": null,
   "metadata": {},
   "outputs": [],
   "source": []
  }
 ],
 "metadata": {
  "kernelspec": {
   "display_name": "Python 3",
   "language": "python",
   "name": "python3"
  },
  "language_info": {
   "codemirror_mode": {
    "name": "ipython",
    "version": 3
   },
   "file_extension": ".py",
   "mimetype": "text/x-python",
   "name": "python",
   "nbconvert_exporter": "python",
   "pygments_lexer": "ipython3",
   "version": "3.7.3"
  }
 },
 "nbformat": 4,
 "nbformat_minor": 2
}
