{
 "cells": [
  {
   "cell_type": "markdown",
   "metadata": {},
   "source": [
    "# INTERPOLATION using newtonsm forward formula"
   ]
  },
  {
   "cell_type": "code",
   "execution_count": null,
   "metadata": {},
   "outputs": [],
   "source": [
    "n = int(input(\"enter total number of elements\"))\n",
    "x,y=[],[]\n",
    "for i in range(0,n):\n",
    "    x.append(float(input(\"enter elements of x: \")))\n",
    "    y.append(float(input(\"enter elements of y :\")))\n",
    "b = []\n",
    "b.append(y)\n",
    "for i in range(0,n-1):\n",
    "    a = []\n",
    "    for j in range(0,n-1):\n",
    "         a.append(y[j+1]-y[j])\n",
    "    b.append(a)\n",
    "    n-=1\n",
    "    y=a\n",
    "print(a)\n",
    "print(\"==========formula-part============\")\n",
    "m = len(x)\n",
    "value = float(input(\"y(x) : enter x: \"))\n",
    "p = (value- x[0])/(x[1] - x[0])\n",
    "Temp = []\n",
    "import math\n",
    "temp = 1\n",
    "for i in range(0,m-1):\n",
    "    temp = temp *(p-i)\n",
    "    Temp.append(temp)\n",
    "umair = b[0][0]\n",
    "for i in range(0,m-1):\n",
    "    umair = umair + ((Temp[i]*b[i+1][0])/(math.factorial(i+1)))\n",
    "print(f\"\\nvalue at  f({value}) is , {round(umair,5)}\")\n"
   ]
  },
  {
   "cell_type": "code",
   "execution_count": null,
   "metadata": {},
   "outputs": [],
   "source": []
  }
 ],
 "metadata": {
  "kernelspec": {
   "display_name": "Python 3",
   "language": "python",
   "name": "python3"
  },
  "language_info": {
   "codemirror_mode": {
    "name": "ipython",
    "version": 3
   },
   "file_extension": ".py",
   "mimetype": "text/x-python",
   "name": "python",
   "nbconvert_exporter": "python",
   "pygments_lexer": "ipython3",
   "version": "3.7.3"
  }
 },
 "nbformat": 4,
 "nbformat_minor": 2
}
