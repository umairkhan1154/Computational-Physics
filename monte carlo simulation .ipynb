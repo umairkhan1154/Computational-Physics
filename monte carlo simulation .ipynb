{
 "cells": [
  {
   "cell_type": "code",
   "execution_count": 1,
   "metadata": {},
   "outputs": [
    {
     "name": "stdout",
     "output_type": "stream",
     "text": [
      "3.141036\n"
     ]
    },
    {
     "data": {
      "text/plain": [
       "<Figure size 400x400 with 1 Axes>"
      ]
     },
     "metadata": {},
     "output_type": "display_data"
    }
   ],
   "source": [
    "import numpy as np\n",
    "import matplotlib.pyplot as plt\n",
    "n = 1000000\n",
    "z,y = [],[]\n",
    "for i in range(0,n):\n",
    "    x1 = np.random.rand()\n",
    "    x2 = np.random.rand()\n",
    "    if (x2**2 + x1**2 <1):\n",
    "        z.append(x1)\n",
    "        y.append(x2)\n",
    "estimate = (4*len(z))/n\n",
    "print(estimate)\n",
    "plt.figure(figsize = (4,4))\n",
    "plt.scatter(z,y,c=\"green\")\n",
    "plt.show()"
   ]
  },
  {
   "cell_type": "markdown",
   "metadata": {},
   "source": [
    "# monte carlo integration"
   ]
  },
  {
   "cell_type": "code",
   "execution_count": 6,
   "metadata": {},
   "outputs": [
    {
     "name": "stdout",
     "output_type": "stream",
     "text": [
      "1.4142040241668647\n",
      "0.27586206896551724\n"
     ]
    }
   ],
   "source": [
    "import numpy as np\n",
    "a = 0\n",
    "b = 2\n",
    "def f(x):\n",
    "    return(x**2 - 2*x + 15)\n",
    "x1 = np.random.rand()\n",
    "x2 = np.random.rand()\n",
    "x3 = np.random.rand()\n",
    "x4 = np.random.rand()\n",
    "x5 = np.random.rand()\n",
    "area = 1/n*(f(x1)+f(x2)+f(x3)+f(x4)+f(x5))*(b-a)\n",
    "print(area)\n",
    "def f1(x):\n",
    "    return (x**3)/(3-x**2 + 15*x)\n",
    "print(f1(b)-f1(a))"
   ]
  },
  {
   "cell_type": "code",
   "execution_count": null,
   "metadata": {},
   "outputs": [],
   "source": []
  }
 ],
 "metadata": {
  "kernelspec": {
   "display_name": "Python 3",
   "language": "python",
   "name": "python3"
  },
  "language_info": {
   "codemirror_mode": {
    "name": "ipython",
    "version": 3
   },
   "file_extension": ".py",
   "mimetype": "text/x-python",
   "name": "python",
   "nbconvert_exporter": "python",
   "pygments_lexer": "ipython3",
   "version": "3.7.3"
  }
 },
 "nbformat": 4,
 "nbformat_minor": 2
}
