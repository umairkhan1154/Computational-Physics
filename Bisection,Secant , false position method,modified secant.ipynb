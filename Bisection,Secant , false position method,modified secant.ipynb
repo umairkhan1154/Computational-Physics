{
 "cells": [
  {
   "cell_type": "markdown",
   "metadata": {},
   "source": [
    "# BISECTION METHOD"
   ]
  },
  {
   "cell_type": "code",
   "execution_count": null,
   "metadata": {},
   "outputs": [],
   "source": [
    "tolerance = float(input(\"enter tolerance:\"))\n",
    "a = float(input(\"enter first inital guess:\"))\n",
    "b= float(input(\"enter second initial guess:\"))\n",
    "import pandas as pd\n",
    "def f(x):\n",
    "    return x**3 + 7*x**2 + 14 * x - 6\n",
    "tem = 0\n",
    "while tem == 0:\n",
    "    if f(a) == 0:\n",
    "        print(\"the root of the equation is\",f(a))\n",
    "    elif f(b) == 0:\n",
    "        print(\"the root of the equation is\",f(b))\n",
    "    elif f(a)*f(b) < 0:\n",
    "        tem = 1\n",
    "    else:\n",
    "        print(\"the root doesnot lie between a and b\")\n",
    "def bisection(a,b):\n",
    "    while((b-a) >= tolerance):\n",
    "        xm=(a+b)/2\n",
    "        if f(xm) == 0:\n",
    "            print(\"xm is the root\")\n",
    "            break\n",
    "        if f(a)*f(xm)> 0:\n",
    "            a = xm\n",
    "        else:\n",
    "            b = xm\n",
    "    print(\"the root of the equation is\",\"%.6f\"%f(xm))\n",
    "    dic = {\n",
    "            \"a\":[a],\"b\":[b],\"xm\":[xm],\"f(a)\":[f(a)],\"f(b)\":[f(b)],\"f(xm)\":[f(xm)]\n",
    "          }\n",
    "    df = pd.DataFrame(dic)\n",
    "    print(df)\n",
    "bisection(a,b)"
   ]
  },
  {
   "cell_type": "markdown",
   "metadata": {},
   "source": [
    "# SECTANT METHOD"
   ]
  },
  {
   "cell_type": "code",
   "execution_count": null,
   "metadata": {},
   "outputs": [],
   "source": [
    "def f(x):\n",
    "    return 230*x**4 + 18*x**3 + 9*x**2 - 221*x - 9\n",
    "def secant(x0,x1,E):\n",
    "    n = 0\n",
    "    while True:\n",
    "        x2 = (x0*f(x1) - x1*f(x0)) / (f(x1) - f(x0))\n",
    "        if f(x0)==0 or (abs(f(x0))<E):\n",
    "            print(f\"{x0} is the root\")\n",
    "#             break\n",
    "        elif f(x1)==0 or (abs(f(x1)) < E):\n",
    "            print(f\"{x1} is the root\")\n",
    "#             break\n",
    "        elif f(x2) == 0 :\n",
    "            print(f'{x2} is the root')\n",
    "#             break\n",
    "        else:\n",
    "            x0 = x1\n",
    "            x1 = x2\n",
    "            n +=1\n",
    "            xm=((x0 * f(x1) - x0 * f(x0))/(f(x1)-f(x0)));\n",
    "            if (abs(xm-x2)<E):\n",
    "                break\n",
    "    print(\"root of the equation is\",\"%.10f\"%x2)\n",
    "    print(\"No of iteration is: \",n)\n",
    "x0 = 0\n",
    "x1 = 1\n",
    "E = 0.000001\n",
    "secant(x0,x1,E)"
   ]
  },
  {
   "cell_type": "markdown",
   "metadata": {},
   "source": [
    "# False Position Method"
   ]
  },
  {
   "cell_type": "code",
   "execution_count": null,
   "metadata": {},
   "outputs": [],
   "source": [
    "import pandas as pd\n",
    "def f(x):\n",
    "    return 230*x**4 + 18*x**3 + 9*x**2 - 221*x - 9\n",
    "a = 0\n",
    "while a == 0:\n",
    "    x1 = float(input(\"enter x1:\"))\n",
    "    if f(x1) == 0:\n",
    "        print('the root of the equation is',\"%.6f\"%x1)\n",
    "        break\n",
    "    x2 = float(input(\"enter x2:\"))\n",
    "    if f(x2) == 0:\n",
    "        print('the root of the equation is',\"%.6f\"%x2)\n",
    "        break\n",
    "    if f(x1) * f(x2) >= 0:\n",
    "        print('the root doesnot lies between x1 and x2')\n",
    "    else:\n",
    "        a=1\n",
    "def false_position(x1,x2,E):\n",
    "    n = 0\n",
    "    xm = ((x1*f(x2)) - x2*f(x1)) / (f(x2) - f(x1))\n",
    "    if (f(xm) == 0):\n",
    "        print('the root of the equation is:',\"%.6f\"%xm)\n",
    "    while (abs(f(xm)) > E):\n",
    "        n+=1\n",
    "        xm = ((x1*f(x2)) - x2*f(x1)) / (f(x2) - f(x1))\n",
    "        dic = {\"n\":[n],\"x1\":[x1],\"x2\":[x2],\"xm\":[xm],\"f(x1)\":[f(x1)],\"f(x2)\":[f(x2)],\"f(xm)\":[f(xm)]}\n",
    "        if f(x1) * f(xm) < 0:\n",
    "            x2 = xm\n",
    "        else:\n",
    "            x1 = xm\n",
    "    print('the root of the equation is ' , \"%.6f\"%xm)\n",
    "    print('number of iteration is',n)\n",
    "    df = pd.DataFrame(dic)\n",
    "    print(df)\n",
    "E = 0.000001\n",
    "false_position(x1,x2,E)"
   ]
  },
  {
   "cell_type": "markdown",
   "metadata": {},
   "source": [
    "# modified secant method"
   ]
  },
  {
   "cell_type": "code",
   "execution_count": 5,
   "metadata": {},
   "outputs": [
    {
     "name": "stdout",
     "output_type": "stream",
     "text": [
      "x0:1\n",
      "x0 f(x0) x1 f(x1)\n",
      "1.0 -0.63212 0.53726 0.04708\n",
      "0.53726 0.04708 0.56703 0.00017\n",
      "0.56703 0.00017 0.56714 -0.0\n",
      "the root of the equation is 0.567143\n"
     ]
    }
   ],
   "source": [
    "import math\n",
    "x0 = float(input(\"x0:\"))\n",
    "e = 0.000001\n",
    "dx = 0.01\n",
    "def f(x):\n",
    "    return math.exp(-x) - x\n",
    "print('x0','f(x0)','x1','f(x1)')\n",
    "while (abs(f(x0)) > e):\n",
    "    fd = x0 + dx\n",
    "    x1 = x0 - ((dx * f(x0))/(f(fd) - f(x0)))\n",
    "    print (round(x0,5), round(f(x0),5), round(x1,5),round(f(x1),5))\n",
    "    x0 = x1\n",
    "print('the root of the equation is',\"%.6f\"%x0)\n"
   ]
  },
  {
   "cell_type": "code",
   "execution_count": null,
   "metadata": {},
   "outputs": [],
   "source": []
  },
  {
   "cell_type": "code",
   "execution_count": null,
   "metadata": {},
   "outputs": [],
   "source": []
  },
  {
   "cell_type": "code",
   "execution_count": null,
   "metadata": {},
   "outputs": [],
   "source": []
  }
 ],
 "metadata": {
  "kernelspec": {
   "display_name": "Python 3",
   "language": "python",
   "name": "python3"
  },
  "language_info": {
   "codemirror_mode": {
    "name": "ipython",
    "version": 3
   },
   "file_extension": ".py",
   "mimetype": "text/x-python",
   "name": "python",
   "nbconvert_exporter": "python",
   "pygments_lexer": "ipython3",
   "version": "3.7.3"
  }
 },
 "nbformat": 4,
 "nbformat_minor": 2
}
