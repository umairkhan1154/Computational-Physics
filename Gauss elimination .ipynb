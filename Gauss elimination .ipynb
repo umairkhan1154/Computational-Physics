{
 "cells": [
  {
   "cell_type": "code",
   "execution_count": 10,
   "metadata": {},
   "outputs": [
    {
     "name": "stdout",
     "output_type": "stream",
     "text": [
      "enter number of unknowns3\n",
      " 25\n",
      " 5\n",
      " 1\n",
      " 106.8\n",
      " 64\n",
      " 8\n",
      " 1\n",
      " 177.2\n",
      " 144\n",
      " 12\n",
      " 1\n",
      " 279.2\n",
      "[[ 25.    5.    1.  106.8]\n",
      " [ 64.    8.    1.  177.2]\n",
      " [144.   12.    1.  279.2]]\n",
      "[[ 25.      5.      1.    106.8  ]\n",
      " [  0.     -4.8    -1.56  -96.208]\n",
      " [  0.      0.      0.7     0.76 ]]\n",
      "x 0 = 0.2904761904761892\n",
      "x 1 = 19.690476190476197\n",
      "x 2 = 1.0857142857142739\n"
     ]
    }
   ],
   "source": [
    "import numpy as np\n",
    "row = []\n",
    "n = int(input(\"enter number of unknowns\"))\n",
    "[  row.append(float(input(\" \"))) for i in range(0,n) for j in range(0,n+1)]\n",
    "a = np.array(row).reshape(n,n+1)\n",
    "print(a)\n",
    "b = 1\n",
    "for j in range(0,n-1):\n",
    "    for i in range(b,n):\n",
    "        a[i:i+1,:]  =  a[i:i+1,:] - ((a[i:i+1,j:j+1]/a[j:j+1,j:j+1]) * (a[j:j+1,:]))\n",
    "    b+=1\n",
    "print(a)\n",
    "x = np.ones(n)\n",
    "x[n-1] = (a[-1,n]/a[n-1,n-1])\n",
    "for i in range(n-2,-1,-1):\n",
    "    sum = 0\n",
    "    for j in range(i+1,n):\n",
    "        sum += a[i,j]*x[j]\n",
    "    x[i] = (a[i,n]-sum)/a[i,i]\n",
    "for i in range(n):\n",
    "    print(\"x\",i,\"=\",x[i])"
   ]
  },
  {
   "cell_type": "code",
   "execution_count": null,
   "metadata": {},
   "outputs": [],
   "source": []
  }
 ],
 "metadata": {
  "kernelspec": {
   "display_name": "Python 3",
   "language": "python",
   "name": "python3"
  },
  "language_info": {
   "codemirror_mode": {
    "name": "ipython",
    "version": 3
   },
   "file_extension": ".py",
   "mimetype": "text/x-python",
   "name": "python",
   "nbconvert_exporter": "python",
   "pygments_lexer": "ipython3",
   "version": "3.7.3"
  }
 },
 "nbformat": 4,
 "nbformat_minor": 2
}
